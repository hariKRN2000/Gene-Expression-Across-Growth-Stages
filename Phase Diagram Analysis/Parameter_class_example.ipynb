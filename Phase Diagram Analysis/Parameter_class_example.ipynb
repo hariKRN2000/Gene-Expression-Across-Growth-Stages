{
 "cells": [
  {
   "cell_type": "markdown",
   "metadata": {},
   "source": [
    "### An example file to demonstrate the implimentation of the Parameters.py file"
   ]
  },
  {
   "cell_type": "code",
   "execution_count": 1,
   "metadata": {},
   "outputs": [],
   "source": [
    "import csv\n",
    "from parameters import Parameters\n"
   ]
  },
  {
   "cell_type": "code",
   "execution_count": 2,
   "metadata": {},
   "outputs": [
    {
     "name": "stdout",
     "output_type": "stream",
     "text": [
      "{'beta': 10, 'dm': 0.5, 'ktl': 0.05}\n",
      "{'beta': 10.0, 'dm': 0.2, 'ktl': 0.05}\n"
     ]
    }
   ],
   "source": [
    "\n",
    "# Example Usage:\n",
    "\n",
    "# Create an instance of ModelParameters\n",
    "params = Parameters()\n",
    "\n",
    "# Add parameters\n",
    "params.add_parameter(name = 'beta', value = 1, min_bound = 10, max_bound = 100)\n",
    "params.add_parameter(name = 'dm', value = 0.05, min_bound = 0.5, max_bound = 0.2)\n",
    "params.add_parameter(name = 'ktl', value = 0.01, min_bound = 0.05, max_bound = 0.5)\n",
    "\n",
    "# Export to dictionary\n",
    "param_dict = params.to_dict()\n",
    "print(param_dict)\n",
    "\n",
    "# Export to CSV\n",
    "params.export_to_csv('parameters_sample.csv')\n",
    "\n",
    "# Import from CSV\n",
    "imported_params = Parameters.import_from_csv('parameters_sample.csv')\n",
    "imported_dict = imported_params.to_dict()\n",
    "print(imported_dict)"
   ]
  }
 ],
 "metadata": {
  "kernelspec": {
   "display_name": "geags",
   "language": "python",
   "name": "python3"
  },
  "language_info": {
   "codemirror_mode": {
    "name": "ipython",
    "version": 3
   },
   "file_extension": ".py",
   "mimetype": "text/x-python",
   "name": "python",
   "nbconvert_exporter": "python",
   "pygments_lexer": "ipython3",
   "version": "3.8.17"
  },
  "orig_nbformat": 4
 },
 "nbformat": 4,
 "nbformat_minor": 2
}
